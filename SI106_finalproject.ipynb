{
 "cells": [
  {
   "cell_type": "code",
   "execution_count": null,
   "metadata": {},
   "outputs": [],
   "source": [
    "import requests_oauthlib\n",
    "import json\n",
    "import string\n",
    "import csv\n",
    "\n",
    "client_key = 'OLABBtLwSUHCmoupbEuY0XWBo'\n",
    "client_secret = 'pUoSzk5DEVs6WeqdImm3VkSLJKxTi4RxMsxkWhZVh6cVmZ0RcQ'\n",
    "\n",
    "if not client_secret or not client_key:\n",
    "    print(\"You need to fill in client_key and client_secret. See comments in the code around line 8-14.\")"
   ]
  },
  {
   "cell_type": "code",
   "execution_count": null,
   "metadata": {},
   "outputs": [],
   "source": [
    "def get_tokens():\n",
    "    oauth = requests_oauthlib.OAuth1Session(client_key, client_secret=client_secret)\n",
    "\n",
    "    request_token_url = 'https://api.twitter.com/oauth/request_token'\n",
    "\n",
    "    fetch_response = oauth.fetch_request_token(request_token_url)\n",
    "\n",
    "    resource_owner_key = fetch_response.get('oauth_token')\n",
    "    resource_owner_secret = fetch_response.get('oauth_token_secret')\n",
    "\n",
    "    base_authorization_url = 'https://api.twitter.com/oauth/authorize'\n",
    "    \n",
    "    authorization_url = oauth.authorization_url(base_authorization_url)\n",
    "\n",
    "    print(\"\"\"Please click on the URL below, \n",
    "          click on \"Authorize App\", \n",
    "          and then copy the authorization code and paste it below.\"\"\")\n",
    "    print(authorization_url)\n",
    "    \n",
    "    verifier = input('Please input the verifier>>> ')\n",
    "\n",
    "    oauth = requests_oauthlib.OAuth1Session(client_key,\n",
    "                              client_secret=client_secret,\n",
    "                              resource_owner_key=resource_owner_key,\n",
    "                              resource_owner_secret=resource_owner_secret,\n",
    "                              verifier=verifier)\n",
    "\n",
    "    access_token_url = 'https://api.twitter.com/oauth/access_token'\n",
    "    oauth_tokens = oauth.fetch_access_token(access_token_url)\n",
    "    \n",
    "    resource_owner_key = oauth_tokens.get('oauth_token')\n",
    "    resource_owner_secret = oauth_tokens.get('oauth_token_secret')\n",
    "\n",
    "    return (client_key, client_secret, resource_owner_key, resource_owner_secret, verifier)"
   ]
  },
  {
   "cell_type": "code",
   "execution_count": null,
   "metadata": {},
   "outputs": [],
   "source": [
    "try:\n",
    "    f = open(\"creds.txt\", 'r')\n",
    "    (client_key, client_secret, resource_owner_key, resource_owner_secret,\n",
    "     verifier) = json.loads(f.read())\n",
    "    f.close()\n",
    "except:\n",
    "    tokens = get_tokens()\n",
    "    f = open(\"creds.txt\", 'w')\n",
    "    f.write(json.dumps(tokens))\n",
    "    f.close()\n",
    "    (client_key, client_secret, resource_owner_key, resource_owner_secret, verifier) = tokens"
   ]
  },
  {
   "cell_type": "code",
   "execution_count": null,
   "metadata": {},
   "outputs": [],
   "source": [
    "protected_url = 'https://api.twitter.com/1.1/account/settings.json'\n",
    "oauth = requests_oauthlib.OAuth1Session(client_key,\n",
    "                        client_secret=client_secret,\n",
    "                        resource_owner_key=resource_owner_key,\n",
    "                        resource_owner_secret=resource_owner_secret)"
   ]
  },
  {
   "cell_type": "code",
   "execution_count": null,
   "metadata": {
    "scrolled": true
   },
   "outputs": [],
   "source": [
    "response = oauth.get(\"https://api.twitter.com/1.1/search/tweets.json\", \n",
    "              params = {'q': input('Enter a hashtag: '), 'count' : 200}) \n",
    "\n",
    "print(response)"
   ]
  },
  {
   "cell_type": "code",
   "execution_count": null,
   "metadata": {},
   "outputs": [],
   "source": [
    "content = response.json()\n",
    "\n",
    "tweet_dictionaries = content['statuses']"
   ]
  },
  {
   "cell_type": "code",
   "execution_count": null,
   "metadata": {},
   "outputs": [],
   "source": [
    "class Tweet():\n",
    "    def __init__(self, tweets_d = {}):\n",
    "        \n",
    "        self.screen_name = tweets_d['user']['screen_name']\n",
    "        \n",
    "        self.message = tweets_d['text']\n",
    "    \n",
    "    def removing_stop_words(self):\n",
    "        \n",
    "        no_stop_words= []\n",
    "        \n",
    "        stopwords = [\"https://\",\"ourselves\", \"hers\", \"between\", \"yourself\", \"but\", \"again\", \"there\", \"about\", \"once\", \"during\", \"out\", \"very\", \"having\", \"with\", \"they\", \"own\", \"an\", \"be\", \"some\", \"for\", \"do\", \"its\", \"yours\", \"such\", \"into\", \"of\", \"most\", \"itself\", \"other\", \"off\", \"is\", \"s\", \"am\", \"or\", \"who\", \"as\", \"from\", \"him\", \"each\", \"the\", \"themselves\", \"until\", \"below\", \"are\", \"we\", \"these\", \"your\", \"his\", \"through\", \"don\", \"nor\", \"me\", \"were\", \"her\", \"more\", \"himself\", \"this\", \"down\", \"should\", \"our\", \"their\", \"while\", \"above\", \"both\", \"up\", \"to\", \"ours\", \"had\", \"she\", \"all\", \"no\", \"when\", \"at\", \"any\", \"before\", \"them\", \"same\", \"and\", \"been\", \"have\", \"in\", \"will\", \"on\", \"does\", \"yourselves\", \"then\", \"that\", \"because\", \"what\", \"over\", \"why\", \"so\", \"can\", \"did\", \"not\", \"now\", \"under\", \"he\", \"you\", \"herself\", \"has\", \"just\", \"where\", \"too\", \"only\", \"myself\", \"which\", \"those\", \"i\", \"after\", \"few\", \"whom\", \"t\", \"being\", \"if\", \"theirs\", \"my\", \"against\", \"a\", \"by\", \"doing\", \"it\", \"how\", \"further\", \"was\", \"here\", \"than\", \"it’s\", \"It’s\", \"RT\", \"The\"]\n",
    "        letters = list(string.ascii_letters)\n",
    "        twitter_specific = [\"@\", \"#\",\".\"]\n",
    "        \n",
    "        for x in self.message.split():\n",
    "            if x not in stopwords and x not in letters and x[0] not in twitter_specific:\n",
    "                no_stop_words.append(x)\n",
    "        \n",
    "        return no_stop_words\n",
    "\n",
    "            \n",
    "    def __str__(self,  tweets_d = {}):\n",
    "        return \"User @{} Tweeted: {}\".format(self.screen_name, self.message)"
   ]
  },
  {
   "cell_type": "code",
   "execution_count": null,
   "metadata": {},
   "outputs": [],
   "source": [
    "tweet_instances = []\n",
    "\n",
    "for a_tweet in tweet_dictionaries:\n",
    "    post = Tweet(a_tweet)\n",
    "    tweet_instances.append(post)\n",
    "\n",
    "big_list_of_words = []\n",
    "\n",
    "for x in tweet_instances:\n",
    "    big_list_of_words.append(x.removing_stop_words())\n",
    "    \n",
    "\n",
    "final_list_of_words= []\n",
    "\n",
    "for x in big_list_of_words:\n",
    "    for new_list in x:\n",
    "        final_list_of_words.append(new_list)\n",
    "        \n",
    "final_list_of_words"
   ]
  },
  {
   "cell_type": "code",
   "execution_count": null,
   "metadata": {},
   "outputs": [],
   "source": [
    "tweetwordcount = {}\n",
    "\n",
    "for word in final_list_of_words:\n",
    "    if word in tweetwordcount:\n",
    "        tweetwordcount[word] += 1\n",
    "    else:\n",
    "        tweetwordcount[word] = 1\n",
    "\n",
    "\n",
    "sort_filtered_tweetwordcount = sorted(tweetwordcount.items(), key=lambda x: x[1], reverse = True)\n",
    "mostcommonword = sort_filtered_tweetwordcount[0][0]\n",
    "\n",
    "print(mostcommonword)\n"
   ]
  },
  {
   "cell_type": "code",
   "execution_count": null,
   "metadata": {},
   "outputs": [],
   "source": [
    "def get_itunes(x):\n",
    "\n",
    "    itunes_response = oauth.get(\"https://itunes.apple.com/search?parameterkeyvalue\", \n",
    "              params = {'term': x, 'media' : 'music', 'durationInMillis': 'durationInMillis'})\n",
    "    return itunes_response"
   ]
  },
  {
   "cell_type": "code",
   "execution_count": null,
   "metadata": {},
   "outputs": [],
   "source": [
    "itunes_response = get_itunes(mostcommonword)\n",
    "\n",
    "itunes_content = itunes_response.json()\n",
    "\n",
    "itunes_dictionaries = itunes_content['results']\n",
    "\n",
    "print(itunes_dictionaries)"
   ]
  },
  {
   "cell_type": "code",
   "execution_count": null,
   "metadata": {},
   "outputs": [],
   "source": [
    "class Song():\n",
    "    def __init__(self, itunes_d = {}):\n",
    "        \n",
    "        self.title = itunes_d['trackName']\n",
    "        \n",
    "        self.artist = itunes_d['artistName']\n",
    "        \n",
    "        self.length = itunes_d['trackTimeMillis']\n",
    "        \n",
    "        self.album = itunes_d['collectionName']\n",
    "        \n",
    "    def convert_to_seconds(self):\n",
    "        \n",
    "        return self.length / 1000\n",
    "        \n",
    "    def __str__(self,  itunes_d = {}):\n",
    "        return \"{}, by {}, is  {} miliseconds long.\".format(self.title, self.artist, self.length)"
   ]
  },
  {
   "cell_type": "code",
   "execution_count": null,
   "metadata": {},
   "outputs": [],
   "source": [
    "for a_song in itunes_dictionaries:\n",
    "    song = Song(a_song)\n",
    "    print(song.title)\n",
    "    print(song.artist)\n",
    "    print(song.album)\n",
    "    print(song.length)\n",
    "    print('--------')"
   ]
  },
  {
   "cell_type": "code",
   "execution_count": null,
   "metadata": {},
   "outputs": [],
   "source": [
    "songlengthlist = []\n",
    "\n",
    "for a_song in itunes_dictionaries:\n",
    "    music = Song(a_song)\n",
    "    songlengthlist.append(a_song)\n",
    "\n",
    "sorted_songlengthlist = sorted(songlengthlist, key=lambda x: x['trackTimeMillis'], reverse = True)\n",
    "\n",
    "\n",
    "sortedsonginstances = []\n",
    "\n",
    "for x in sorted_songlengthlist:\n",
    "    music = Song(x)\n",
    "    sortedsonginstances.append(music)"
   ]
  },
  {
   "cell_type": "code",
   "execution_count": null,
   "metadata": {},
   "outputs": [],
   "source": [
    "f = open(\"songs.csv\", \"w\")\n",
    "f.write(\"Song Title, Artist, Length, Album\\n\")\n",
    "\n",
    "for song in sortedsonginstances:\n",
    "    f.write('{},{},{},{}\\n'.format(song.title,song.artist,song.convert_to_seconds(),song.album))\n",
    "\n",
    "f.close()"
   ]
  },
  {
   "cell_type": "code",
   "execution_count": null,
   "metadata": {},
   "outputs": [],
   "source": []
  }
 ],
 "metadata": {
  "kernelspec": {
   "display_name": "Python 3",
   "language": "python",
   "name": "python3"
  },
  "language_info": {
   "codemirror_mode": {
    "name": "ipython",
    "version": 3
   },
   "file_extension": ".py",
   "mimetype": "text/x-python",
   "name": "python",
   "nbconvert_exporter": "python",
   "pygments_lexer": "ipython3",
   "version": "3.6.4"
  }
 },
 "nbformat": 4,
 "nbformat_minor": 2
}
